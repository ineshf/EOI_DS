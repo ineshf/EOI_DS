{
  "nbformat": 4,
  "nbformat_minor": 0,
  "metadata": {
    "colab": {
      "name": "ClaseSessionDB.ipynb",
      "provenance": []
    },
    "kernelspec": {
      "name": "python3",
      "display_name": "Python 3"
    }
  },
  "cells": [
    {
      "cell_type": "code",
      "metadata": {
        "id": "F-G5OEGgyEmB",
        "colab_type": "code",
        "colab": {
          "base_uri": "https://localhost:8080/",
          "height": 219
        },
        "outputId": "e337e941-a659-4723-ba70-7aca33fda9b9"
      },
      "source": [
        "!pip install mysql.connector\n"
      ],
      "execution_count": 1,
      "outputs": [
        {
          "output_type": "stream",
          "text": [
            "Collecting mysql.connector\n",
            "\u001b[?25l  Downloading https://files.pythonhosted.org/packages/28/04/e40098f3730e75bbe36a338926f566ea803550a34fb50535499f4fc4787a/mysql-connector-2.2.9.tar.gz (11.9MB)\n",
            "\u001b[K     |████████████████████████████████| 11.9MB 195kB/s \n",
            "\u001b[?25hBuilding wheels for collected packages: mysql.connector\n",
            "  Building wheel for mysql.connector (setup.py) ... \u001b[?25l\u001b[?25hdone\n",
            "  Created wheel for mysql.connector: filename=mysql_connector-2.2.9-cp36-cp36m-linux_x86_64.whl size=247949 sha256=d91b33540604c3e24b9d5dc6c5b076630ccf19cf5f8ed7d14fb2a5e739795ac9\n",
            "  Stored in directory: /root/.cache/pip/wheels/8c/83/a1/f8b6d4bb1bd6208bbde1608bbfa7557504bed9eaf2ecf8c175\n",
            "Successfully built mysql.connector\n",
            "Installing collected packages: mysql.connector\n",
            "Successfully installed mysql.connector\n"
          ],
          "name": "stdout"
        }
      ]
    },
    {
      "cell_type": "code",
      "metadata": {
        "id": "HcBa9AakySez",
        "colab_type": "code",
        "colab": {
          "base_uri": "https://localhost:8080/",
          "height": 72
        },
        "outputId": "880436d1-b4cd-4a41-8c08-d61770e9b17f"
      },
      "source": [
        "import mysql.connector\n",
        "from mysql.connector import Error\n",
        "\n",
        "try:\n",
        "    connection = mysql.connector.connect(host='db4free.net',\n",
        "                                         database='eoitest',\n",
        "                                         user='eoitest',\n",
        "                                         password='eoitest2019')\n",
        "    if connection.is_connected():\n",
        "        db_Info = connection.get_server_info()\n",
        "        print(\"Connected to MySQL Server version \", db_Info)\n",
        "        cursor = connection.cursor()\n",
        "        cursor.execute(\"select database();\")\n",
        "        record = cursor.fetchone()\n",
        "        print(\"You're connected to database: \", record)\n",
        "\n",
        "except Error as e:\n",
        "    print(\"Error while connecting to MySQL\", e)\n",
        "finally:\n",
        "    if (connection.is_connected()):\n",
        "        cursor.close()\n",
        "        connection.close()\n",
        "        print(\"MySQL connection is closed\")"
      ],
      "execution_count": 3,
      "outputs": [
        {
          "output_type": "stream",
          "text": [
            "Connected to MySQL Server version  8.0.18\n",
            "You're connected to database:  ('eoitest',)\n",
            "MySQL connection is closed\n"
          ],
          "name": "stdout"
        }
      ]
    },
    {
      "cell_type": "code",
      "metadata": {
        "id": "LIvce3Z91U2j",
        "colab_type": "code",
        "colab": {
          "base_uri": "https://localhost:8080/",
          "height": 181
        },
        "outputId": "e4ad9675-0f41-4bff-992e-1c8358ec3b2d"
      },
      "source": [
        "#Ejemplo de consulta\n",
        "connection = mysql.connector.connect(host='db4free.net',\n",
        "                                         database='eoitest',\n",
        "                                         user='eoitest',\n",
        "                                         password='eoitest2019')\n",
        "sql_select_Query = \"select * from bigbang\"\n",
        "cursor = connection.cursor()\n",
        "cursor.execute(sql_select_Query)\n",
        "records = cursor.fetchall()\n",
        "print(\"Total from table: \", cursor.rowcount)\n",
        "\n",
        "for row in records:\n",
        "  print(row)\n",
        "cursor.close()\n",
        "connection.close()\n"
      ],
      "execution_count": 4,
      "outputs": [
        {
          "output_type": "stream",
          "text": [
            "Total from table:  8\n",
            "('Sheldon', 'Cooper', 33, 'Fisico')\n",
            "('Leonard', 'Nose', 33, 'Fisico')\n",
            "('Penny', 'Nose', 31, 'Actriz')\n",
            "('Amy', 'Faranoseque', 30, 'Neurologa')\n",
            "('Rash', 'kuzrrapali', 34, 'Astrofisico')\n",
            "('Ines', 'Huertas', 35, 'DS')\n",
            "('Prueba', 'Test', 33, 'blablba')\n",
            "('Prueba', 'Test', 33, 'blablba')\n"
          ],
          "name": "stdout"
        }
      ]
    },
    {
      "cell_type": "code",
      "metadata": {
        "id": "gHx2frgY40vA",
        "colab_type": "code",
        "colab": {
          "base_uri": "https://localhost:8080/",
          "height": 199
        },
        "outputId": "4809261d-ea62-4a2c-d686-384c483c4b94"
      },
      "source": [
        "#Ejemplo querie datos convertido a dataframe\n",
        "from pandas import DataFrame\n",
        "\n",
        "connection = mysql.connector.connect(host='db4free.net',\n",
        "                                         database='eoitest',\n",
        "                                         user='eoitest',\n",
        "                                         password='eoitest2019')\n",
        "sql_select_Query = \"select * from bigbang\"\n",
        "cursor = connection.cursor()\n",
        "cursor.execute(sql_select_Query)\n",
        "records = cursor.fetchall()\n",
        "print(\"Total from table: \", cursor.rowcount)\n",
        "\n",
        "df = DataFrame(records)\n",
        "df.columns = cursor.column_names\n",
        "print(df)\n",
        "\n",
        "cursor.close()\n",
        "connection.close()\n"
      ],
      "execution_count": 5,
      "outputs": [
        {
          "output_type": "stream",
          "text": [
            "Total from table:  8\n",
            "    Nombre     Apellido  Edad    Profesion\n",
            "0  Sheldon       Cooper    33       Fisico\n",
            "1  Leonard         Nose    33       Fisico\n",
            "2    Penny         Nose    31       Actriz\n",
            "3      Amy  Faranoseque    30    Neurologa\n",
            "4     Rash   kuzrrapali    34  Astrofisico\n",
            "5     Ines      Huertas    35           DS\n",
            "6   Prueba         Test    33      blablba\n",
            "7   Prueba         Test    33      blablba\n"
          ],
          "name": "stdout"
        }
      ]
    },
    {
      "cell_type": "code",
      "metadata": {
        "id": "dr4gQkQV7VuK",
        "colab_type": "code",
        "colab": {
          "base_uri": "https://localhost:8080/",
          "height": 199
        },
        "outputId": "91b0f469-4697-488f-dda4-900bea3d671b"
      },
      "source": [
        "#Ejemplo insertar y obtener\n",
        "connection = mysql.connector.connect(host='db4free.net',\n",
        "                                         database='eoitest',\n",
        "                                         user='eoitest',\n",
        "                                         password='eoitest2019')\n",
        "\n",
        "mySql_insert_query = \"INSERT INTO bigbang (Nombre, Apellido, Edad, Profesion) VALUES  ('MiInsert','MiInsert',33,'Profe')\"\n",
        "cursor = connection.cursor()\n",
        "result = cursor.execute(mySql_insert_query)\n",
        "connection.commit()\n",
        "\n",
        "sql_select_Query = \"select * from bigbang\"\n",
        "cursor.execute(sql_select_Query)\n",
        "records = cursor.fetchall()\n",
        "\n",
        "df = DataFrame(records)\n",
        "df.columns = cursor.column_names\n",
        "print(df)\n",
        "\n",
        "cursor.close()\n",
        "connection.close()\n",
        "\n",
        "\n",
        "\n",
        "\n"
      ],
      "execution_count": 7,
      "outputs": [
        {
          "output_type": "stream",
          "text": [
            "     Nombre     Apellido  Edad    Profesion\n",
            "0   Sheldon       Cooper    33       Fisico\n",
            "1   Leonard         Nose    33       Fisico\n",
            "2     Penny         Nose    31       Actriz\n",
            "3       Amy  Faranoseque    30    Neurologa\n",
            "4      Rash   kuzrrapali    34  Astrofisico\n",
            "5      Ines      Huertas    35           DS\n",
            "6    Prueba         Test    33      blablba\n",
            "7    Prueba         Test    33      blablba\n",
            "8  MiInsert     MiInsert    33        Profe\n"
          ],
          "name": "stdout"
        }
      ]
    },
    {
      "cell_type": "code",
      "metadata": {
        "id": "a-T_JorV8-6C",
        "colab_type": "code",
        "colab": {
          "base_uri": "https://localhost:8080/",
          "height": 181
        },
        "outputId": "e73731ed-f3db-4b4c-83fa-8d257bcf32cd"
      },
      "source": [
        "#Ejemplo insertar y obtener\n",
        "connection = mysql.connector.connect(host='db4free.net',\n",
        "                                         database='eoitest',\n",
        "                                         user='eoitest',\n",
        "                                         password='eoitest2019')\n",
        "sql_Delete_query = \"Delete from bigbang where Nombre='Leonard'\"\n",
        "cursor = connection.cursor()\n",
        "cursor.execute(sql_Delete_query)\n",
        "connection.commit()\n",
        "\n",
        "sql_select_Query = \"select * from bigbang\"\n",
        "cursor.execute(sql_select_Query)\n",
        "records = cursor.fetchall()\n",
        "\n",
        "df = DataFrame(records)\n",
        "df.columns = cursor.column_names\n",
        "print(df)\n",
        "\n",
        "cursor.close()\n",
        "connection.close()"
      ],
      "execution_count": 10,
      "outputs": [
        {
          "output_type": "stream",
          "text": [
            "     Nombre     Apellido  Edad    Profesion\n",
            "0   Sheldon       Cooper    33       Fisico\n",
            "1     Penny         Nose    31       Actriz\n",
            "2       Amy  Faranoseque    30    Neurologa\n",
            "3      Rash   kuzrrapali    34  Astrofisico\n",
            "4      Ines      Huertas    35           DS\n",
            "5    Prueba         Test    33      blablba\n",
            "6    Prueba         Test    33      blablba\n",
            "7  MiInsert     MiInsert    33        Profe\n"
          ],
          "name": "stdout"
        }
      ]
    },
    {
      "cell_type": "code",
      "metadata": {
        "id": "-Z_ZOo-dyn4q",
        "colab_type": "code",
        "colab": {}
      },
      "source": [
        "import mysql.connector\n",
        "from mysql.connector import Error\n"
      ],
      "execution_count": 0,
      "outputs": []
    }
  ]
}